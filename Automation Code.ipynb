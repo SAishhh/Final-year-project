{
  "nbformat": 4,
  "nbformat_minor": 0,
  "metadata": {
    "colab": {
      "provenance": []
    },
    "kernelspec": {
      "name": "python3",
      "display_name": "Python 3"
    },
    "language_info": {
      "name": "python"
    }
  },
  "cells": [
    {
      "cell_type": "code",
      "execution_count": null,
      "metadata": {
        "id": "yhbtjjgpc55U"
      },
      "outputs": [],
      "source": [
        "!pip install pandas"
      ]
    },
    {
      "cell_type": "code",
      "source": [
        "!pip install yfinance"
      ],
      "metadata": {
        "id": "MJSlegXZfukn"
      },
      "execution_count": null,
      "outputs": []
    },
    {
      "cell_type": "code",
      "source": [
        "import pandas as pd\n",
        "import yfinance as yf\n",
        "\n",
        "# Define the stock symbol you want to get data for\n",
        "stock_symbol = \"AAPL\"\n",
        "\n",
        "# Get the live stock data using the yfinance library\n",
        "stock_data = yf.download(stock_symbol)\n",
        "\n",
        "# Convert the stock data to a pandas DataFrame\n",
        "df = pd.DataFrame(stock_data)\n",
        "\n",
        "# Define the name of the Excel file you want to create\n",
        "filename = f\"{stock_symbol}.xlsx\"\n",
        "\n",
        "# Write the DataFrame to the Excel file\n",
        "df.to_excel(filename, index=False)\n"
      ],
      "metadata": {
        "colab": {
          "base_uri": "https://localhost:8080/"
        },
        "id": "pc5df-uHe200",
        "outputId": "a8ef440c-ccf9-4fd9-d044-eabc06ab2ecd"
      },
      "execution_count": null,
      "outputs": [
        {
          "output_type": "stream",
          "name": "stdout",
          "text": [
            "\r[*********************100%***********************]  1 of 1 completed\n"
          ]
        }
      ]
    },
    {
      "cell_type": "code",
      "source": [
        "import pandas as pd\n",
        "import yfinance as yf\n",
        "import pytz\n",
        "from datetime import datetime\n",
        "\n",
        "# Create a datetime object with a timezone\n",
        "dt = datetime(2000, 12, 31, 20)\n",
        "\n",
        "# Define the stock symbol\n",
        "symbol = 'BCLIL.BO'\n",
        "\n",
        "# Get the stock data from Yahoo Finance\n",
        "stock_data = yf.download(symbol, dt)\n",
        "\n",
        "# Convert the data into a pandas DataFrame\n",
        "df = pd.DataFrame(stock_data)\n",
        "\n",
        "# Write the data to an Excel file\n",
        "writer = pd.ExcelWriter(f'{symbol}_stock_data.xlsx')\n",
        "df.to_excel(writer, sheet_name='Sheet1')\n",
        "writer.save()"
      ],
      "metadata": {
        "colab": {
          "base_uri": "https://localhost:8080/"
        },
        "id": "YIsmrFAUg4-8",
        "outputId": "d4ca4b8a-a796-430e-de4d-9e7ed0a1b4f5"
      },
      "execution_count": null,
      "outputs": [
        {
          "output_type": "stream",
          "name": "stdout",
          "text": [
            "\r[*********************100%***********************]  1 of 1 completed\n"
          ]
        }
      ]
    },
    {
      "cell_type": "code",
      "source": [
        "!pip install xlsxwriter"
      ],
      "metadata": {
        "id": "LRFb3H0imF6t"
      },
      "execution_count": null,
      "outputs": []
    },
    {
      "cell_type": "code",
      "source": [
        "import pandas as pd\n",
        "import yfinance as yf\n",
        "\n",
        "tickers = [\"INOXWIND.NS\"]\n",
        "ticker1 = tickers\n",
        "start_date = '2000-01-01'\n",
        "end_date = '2023-03-26'\n",
        "\n",
        "\n",
        "stock_data = yf.download(ticker1,start=start_date, end=end_date,)\n",
        "\n",
        "\n",
        "filename = f'{ticker1}_stock_data_{end_date}.xlsx'\n",
        "stock_data.to_excel(filename, index=True)"
      ],
      "metadata": {
        "colab": {
          "base_uri": "https://localhost:8080/"
        },
        "id": "_UB54LOwoITb",
        "outputId": "ca9ce46c-2f2b-4b37-9abf-3aa2e3c7a757"
      },
      "execution_count": null,
      "outputs": [
        {
          "output_type": "stream",
          "name": "stdout",
          "text": [
            "\r[*********************100%***********************]  1 of 1 completed\n"
          ]
        }
      ]
    }
  ]
}